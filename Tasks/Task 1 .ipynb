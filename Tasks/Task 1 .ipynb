{
  "cells": [
    {
      "cell_type": "markdown",
      "metadata": {
        "id": "A05OG15VqOPF"
      },
      "source": [
        "# Task : Session 1\n",
        "Solve these questions own your own and try to test yourself what you have learned in the session.\n",
        "\n",
        "Happy Learning!"
      ]
    },
    {
      "cell_type": "markdown",
      "metadata": {
        "id": "2doIXf8bqe9_"
      },
      "source": [
        "### Q1 :- Print the given strings as per stated format.\n",
        "\n",
        "**Given strings**:\n",
        "```\n",
        "\"Data\" \"Science\" \"Mentorship\" \"Program\"\n",
        "\"By\" \"CampusX\"\n",
        "```\n",
        "**Output**:\n",
        "```\n",
        "Data-Science-Mentorship-Program-started-By-CampusX\n",
        "```\n",
        "\n",
        "Concept- [Seperator and End]"
      ]
    },
    {
      "cell_type": "code",
      "execution_count": 2,
      "metadata": {
        "id": "-em6d3KErDtp"
      },
      "outputs": [
        {
          "name": "stdout",
          "output_type": "stream",
          "text": [
            "Data-Science-Mentorship-Program-By-CampusX\n",
            "Data-Science-mentorship-Program-By-CampusX\n"
          ]
        }
      ],
      "source": [
        "# Write your code here\n",
        "print(\"Data\",\"Science\",\"Mentorship\",\"Program\",\"By\",\"CampusX\",sep=\"-\")\n",
        "print(\"Data\",end='-')\n",
        "print(\"Science\",end='-')\n",
        "print(\"mentorship\",end='-')\n",
        "print(\"Program\",end='-')\n",
        "print(\"By\",end='-')\n",
        "print(\"CampusX\")"
      ]
    },
    {
      "cell_type": "markdown",
      "metadata": {
        "id": "1KUpN7ZTrC3_"
      },
      "source": [
        "### Q2:- Write a program that will convert celsius value to fahrenheit."
      ]
    },
    {
      "cell_type": "code",
      "execution_count": 3,
      "metadata": {
        "id": "yxKYhYQiqWfj"
      },
      "outputs": [
        {
          "name": "stdout",
          "output_type": "stream",
          "text": [
            "The temperature in fahrenheit is  98.6\n"
          ]
        }
      ],
      "source": [
        "# Write your code here\n",
        "c=int(input(\"Enter you temperature in celcius:-\"))\n",
        "f=(c * 9/5) + 32 \n",
        "print(\"The temperature in fahrenheit is \",f)\n"
      ]
    },
    {
      "cell_type": "markdown",
      "metadata": {
        "id": "RLrOBBJurLB2"
      },
      "source": [
        "### Q3:- Take 2 numbers as input from the user.Write a program to swap the numbers without using any special python syntax."
      ]
    },
    {
      "cell_type": "code",
      "execution_count": 4,
      "metadata": {
        "id": "yPn7if0TrJ4F"
      },
      "outputs": [
        {
          "name": "stdout",
          "output_type": "stream",
          "text": [
            "the number (1,2) the swap is (2,1)\n"
          ]
        }
      ],
      "source": [
        "# Write your code here\n",
        "a=int(input(\"Enter 1st number :\"))\n",
        "b=int(input(\"Enter your 2nd number:\"))\n",
        "c=b\n",
        "d=a\n",
        "b=a\n",
        "a=c\n",
        "print(f\"the number ({d},{c}) the swap is ({a},{b})\")"
      ]
    },
    {
      "cell_type": "markdown",
      "metadata": {
        "id": "waLCP1bjr7ML"
      },
      "source": [
        "### Q4:- Write a program to find the euclidean distance between two coordinates.Take both the coordinates from the user as input."
      ]
    },
    {
      "cell_type": "code",
      "execution_count": 6,
      "metadata": {
        "id": "Pl1Sv-xnrxnH"
      },
      "outputs": [
        {
          "name": "stdout",
          "output_type": "stream",
          "text": [
            "Distance= 1.0\n"
          ]
        }
      ],
      "source": [
        "# Write your code here\n",
        "import math\n",
        "x1=int(input(\"Enter x1 coordinate:-\"))\n",
        "y1=int(input(\"Enter y1 coordinate:-\"))\n",
        "x2=int(input(\"Enter x2 coordinate:-\"))\n",
        "y2=int(input(\"Enter y2 coordinate:-\"))\n",
        "\n",
        "d=(x2-x1)**2 + (y2-y1)**2\n",
        "dist=math.sqrt(d)\n",
        "print(\"Distance=\",format(dist))"
      ]
    },
    {
      "cell_type": "markdown",
      "metadata": {
        "id": "VLrhg-FRsHjR"
      },
      "source": [
        "### Q5:- Write a program to find the simple interest when the value of principle,rate of interest and time period is provided by the user.\n"
      ]
    },
    {
      "cell_type": "code",
      "execution_count": 8,
      "metadata": {
        "id": "s40DlReZsTmY"
      },
      "outputs": [
        {
          "name": "stdout",
          "output_type": "stream",
          "text": [
            "The simple interest is 10.00\n"
          ]
        }
      ],
      "source": [
        "# Write your code here\n",
        "p=float(input(\"Enter the amount:-\"))\n",
        "r=float(input(\"Enter the rate of interest:-\"))\n",
        "t=float(input(\"Enter the time period:-\"))\n",
        "\n",
        "si=(p*r*t)/100\n",
        "print(f\"The simple interest is {si:.2f}\")"
      ]
    },
    {
      "cell_type": "markdown",
      "metadata": {
        "id": "LMy0BTUktYKa"
      },
      "source": [
        "### Q6:- Write a program that will tell the number of dogs and chicken are there when the user will provide the value of total heads and legs.\n",
        "\n",
        "For example:\n",
        "Input:\n",
        "heads -> 4\n",
        "legs -> 12\n",
        "<br>\n",
        "Output:\n",
        "dogs -> 2\n",
        "chicken -> 2\n",
        "\n",
        "\n",
        "\n"
      ]
    },
    {
      "cell_type": "code",
      "execution_count": 10,
      "metadata": {
        "id": "XSBvJoA4tXaG"
      },
      "outputs": [
        {
          "name": "stdout",
          "output_type": "stream",
          "text": [
            "the number of dogs=2.0\n",
            "the number of chicken=2.0\n"
          ]
        }
      ],
      "source": [
        "# Write your code here\n",
        "h=int(input(\"Enter number of heads:-\"))\n",
        "l=int(input(\"Enter number of legs:-\"))\n",
        "\n",
        "d=(l-(2*h))/2\n",
        "c=h-d\n",
        "\n",
        "print(f\"the number of dogs={d}\\nthe number of chicken={c}\")"
      ]
    },
    {
      "cell_type": "markdown",
      "metadata": {
        "id": "gJ7C5kZYt4BP"
      },
      "source": [
        "### Q7:- Write a program to find the sum of squares of first n natural numbers where n will be provided by the user."
      ]
    },
    {
      "cell_type": "code",
      "execution_count": 11,
      "metadata": {
        "id": "_tHsmEHzt2nX"
      },
      "outputs": [
        {
          "name": "stdout",
          "output_type": "stream",
          "text": [
            "The sum is  30\n"
          ]
        }
      ],
      "source": [
        "# Write your code here\n",
        "n=int(input(\"Enter the n:-\"))\n",
        "sum=0\n",
        "for i in range(1,n+1):\n",
        "    sum=sum + (i**2)\n",
        "\n",
        "print(\"The sum is \",sum)\n",
        "\n"
      ]
    },
    {
      "cell_type": "markdown",
      "metadata": {
        "id": "FHrMM7g-yG1h"
      },
      "source": [
        "### Q8:- Given the first 2 terms of an Arithmetic Series.Find the Nth term of the series. Assume all inputs are provided by the user."
      ]
    },
    {
      "cell_type": "code",
      "execution_count": 12,
      "metadata": {
        "id": "go4_kmZmyVSx"
      },
      "outputs": [
        {
          "name": "stdout",
          "output_type": "stream",
          "text": [
            "The nth term of the series = 10\n"
          ]
        }
      ],
      "source": [
        "# Write your code here\n",
        "a1=int(input(\"Enter the 1st number:-\"))\n",
        "a2=int(input(\"Enter the 2nd number:-\"))\n",
        "n=int(input(\"Enter which element you want :-\"))\n",
        "d=a2-a1\n",
        "an=a1 + (n-1)*d\n",
        "print(\"The nth term of the series =\",an)"
      ]
    },
    {
      "cell_type": "markdown",
      "metadata": {
        "id": "QgyRX_es1oum"
      },
      "source": [
        "### Q9:- Given 2 fractions, find the sum of those 2 fractions.Take the numerator and denominator values of the fractions from the user."
      ]
    },
    {
      "cell_type": "code",
      "execution_count": 13,
      "metadata": {
        "id": "X05xqFS1yW16"
      },
      "outputs": [
        {
          "name": "stdout",
          "output_type": "stream",
          "text": [
            "The sum is 1.0\n"
          ]
        }
      ],
      "source": [
        "# Write your code here\n",
        "a=int(input(\"Enter the 1st num:-\"))\n",
        "b=int(input(\"Enter the 1st denominator:-\"))\n",
        "c=int(input(\"Enter the 2nd num:-\"))\n",
        "d=int(input(\"Enter the 2nd denominator:-\"))\n",
        "\n",
        "sum= ((a*d)+(c*b))/(b*d)\n",
        "\n",
        "print(\"The sum is\",sum)"
      ]
    },
    {
      "cell_type": "markdown",
      "metadata": {
        "id": "eaql38ln13u7"
      },
      "source": [
        "### Q10:- Given the height, width and breadth of a milk tank, you have to find out how many glasses of milk can be obtained? Assume all the inputs are provided by the user.\n",
        "\n",
        "\n",
        "\n",
        "Input:<br>\n",
        "Dimensions of the milk tank<br>\n",
        "H = 20cm, L = 20cm, B = 20cm\n",
        "<br><br>\n",
        "Dimensions of the glass<br>\n",
        "h = 3cm, r = 1cm"
      ]
    },
    {
      "cell_type": "code",
      "execution_count": 16,
      "metadata": {
        "id": "FePZqno74eWv"
      },
      "outputs": [
        {
          "name": "stdout",
          "output_type": "stream",
          "text": [
            "The number of glass:- 848\n",
            "Leftover milk in cm³: 7.79\n"
          ]
        }
      ],
      "source": [
        "# Write your code here\n",
        "import math\n",
        "h=20\n",
        "l=20\n",
        "b=20\n",
        "volume_tank=h*l*b\n",
        "h1=3\n",
        "r=1\n",
        "volume_glass=math.pi*h1*(r**2)\n",
        "\n",
        "no_of_glass=(volume_tank)/(volume_glass)\n",
        "\n",
        "print(\"The number of glass:-\",math.floor(no_of_glass))\n",
        "\n",
        "leftover = volume_tank - (math.floor(no_of_glass) * volume_glass)\n",
        "print(\"Leftover milk in cm³:\", round(leftover, 2))\n"
      ]
    },
    {
      "cell_type": "code",
      "execution_count": null,
      "metadata": {},
      "outputs": [],
      "source": []
    }
  ],
  "metadata": {
    "colab": {
      "provenance": []
    },
    "kernelspec": {
      "display_name": "Python 3",
      "name": "python3"
    },
    "language_info": {
      "codemirror_mode": {
        "name": "ipython",
        "version": 3
      },
      "file_extension": ".py",
      "mimetype": "text/x-python",
      "name": "python",
      "nbconvert_exporter": "python",
      "pygments_lexer": "ipython3",
      "version": "3.13.0"
    }
  },
  "nbformat": 4,
  "nbformat_minor": 0
}
